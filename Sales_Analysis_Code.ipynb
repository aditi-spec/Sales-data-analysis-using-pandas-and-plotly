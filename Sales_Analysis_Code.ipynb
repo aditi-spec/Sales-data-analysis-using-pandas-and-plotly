{
 "cells": [
  {
   "cell_type": "markdown",
   "metadata": {},
   "source": [
    "# Import Libraries & Load Dataset"
   ]
  },
  {
   "cell_type": "code",
   "execution_count": 2,
   "metadata": {},
   "outputs": [],
   "source": [
    "import pandas as pd\n",
    "import plotly\n",
    "import plotly.express as px"
   ]
  },
  {
   "cell_type": "markdown",
   "metadata": {},
   "source": [
    "#### Plotly Template Settings"
   ]
  },
  {
   "cell_type": "code",
   "execution_count": 3,
   "metadata": {},
   "outputs": [],
   "source": [
    "# -- Settings Plotly template\n",
    "#      Reference Link:\n",
    "#      https://plotly.com/python/templates/\n",
    "#      Try other themes: 'plotly_dark', 'plotly_white', 'ggplot2', 'seaborn', 'simple_white'\n",
    "template_style = \"plotly_white\""
   ]
  },
  {
   "cell_type": "markdown",
   "metadata": {},
   "source": [
    "### Load DataFrame"
   ]
  },
  {
   "cell_type": "code",
   "execution_count": 4,
   "metadata": {},
   "outputs": [],
   "source": [
    "df = pd.read_excel(r'C:\\Users\\acer-pc\\Desktop\\project data/data.xlsx')"
   ]
  },
  {
   "cell_type": "markdown",
   "metadata": {},
   "source": [
    "**Inspeact first 5 rows of the DataFrame**"
   ]
  },
  {
   "cell_type": "code",
   "execution_count": 5,
   "metadata": {
    "scrolled": true
   },
   "outputs": [
    {
     "data": {
      "text/html": [
       "<div>\n",
       "<style scoped>\n",
       "    .dataframe tbody tr th:only-of-type {\n",
       "        vertical-align: middle;\n",
       "    }\n",
       "\n",
       "    .dataframe tbody tr th {\n",
       "        vertical-align: top;\n",
       "    }\n",
       "\n",
       "    .dataframe thead th {\n",
       "        text-align: right;\n",
       "    }\n",
       "</style>\n",
       "<table border=\"1\" class=\"dataframe\">\n",
       "  <thead>\n",
       "    <tr style=\"text-align: right;\">\n",
       "      <th></th>\n",
       "      <th>Row ID</th>\n",
       "      <th>Order ID</th>\n",
       "      <th>Order Date</th>\n",
       "      <th>Ship Mode</th>\n",
       "      <th>Customer ID</th>\n",
       "      <th>Customer Name</th>\n",
       "      <th>Segment</th>\n",
       "      <th>Country</th>\n",
       "      <th>City</th>\n",
       "      <th>State</th>\n",
       "      <th>...</th>\n",
       "      <th>Category</th>\n",
       "      <th>Sub-Category</th>\n",
       "      <th>Product Name</th>\n",
       "      <th>Sales</th>\n",
       "      <th>Quantity</th>\n",
       "      <th>Discount</th>\n",
       "      <th>Profit</th>\n",
       "      <th>Order Date Year</th>\n",
       "      <th>Order Date Month</th>\n",
       "      <th>Profit Margin</th>\n",
       "    </tr>\n",
       "  </thead>\n",
       "  <tbody>\n",
       "    <tr>\n",
       "      <th>0</th>\n",
       "      <td>13</td>\n",
       "      <td>CA-2017-114412</td>\n",
       "      <td>2020-04-15</td>\n",
       "      <td>Standard Class</td>\n",
       "      <td>AA-10480</td>\n",
       "      <td>Andrew Allen</td>\n",
       "      <td>Consumer</td>\n",
       "      <td>United States</td>\n",
       "      <td>Concord</td>\n",
       "      <td>North Carolina</td>\n",
       "      <td>...</td>\n",
       "      <td>Office Supplies</td>\n",
       "      <td>Paper</td>\n",
       "      <td>Xerox 1967</td>\n",
       "      <td>15.552</td>\n",
       "      <td>3</td>\n",
       "      <td>0.2</td>\n",
       "      <td>5.4432</td>\n",
       "      <td>2020</td>\n",
       "      <td>4</td>\n",
       "      <td>0.350000</td>\n",
       "    </tr>\n",
       "    <tr>\n",
       "      <th>1</th>\n",
       "      <td>24</td>\n",
       "      <td>US-2017-156909</td>\n",
       "      <td>2020-07-16</td>\n",
       "      <td>Second Class</td>\n",
       "      <td>SF-20065</td>\n",
       "      <td>Sandra Flanagan</td>\n",
       "      <td>Consumer</td>\n",
       "      <td>United States</td>\n",
       "      <td>Philadelphia</td>\n",
       "      <td>Pennsylvania</td>\n",
       "      <td>...</td>\n",
       "      <td>Furniture</td>\n",
       "      <td>Chairs</td>\n",
       "      <td>Global Deluxe Stacking Chair, Gray</td>\n",
       "      <td>71.372</td>\n",
       "      <td>2</td>\n",
       "      <td>0.3</td>\n",
       "      <td>-1.0196</td>\n",
       "      <td>2020</td>\n",
       "      <td>7</td>\n",
       "      <td>-0.014286</td>\n",
       "    </tr>\n",
       "    <tr>\n",
       "      <th>2</th>\n",
       "      <td>35</td>\n",
       "      <td>CA-2017-107727</td>\n",
       "      <td>2020-10-19</td>\n",
       "      <td>Second Class</td>\n",
       "      <td>MA-17560</td>\n",
       "      <td>Matt Abelman</td>\n",
       "      <td>Home Office</td>\n",
       "      <td>United States</td>\n",
       "      <td>Houston</td>\n",
       "      <td>Texas</td>\n",
       "      <td>...</td>\n",
       "      <td>Office Supplies</td>\n",
       "      <td>Paper</td>\n",
       "      <td>Easy-staple paper</td>\n",
       "      <td>29.472</td>\n",
       "      <td>3</td>\n",
       "      <td>0.2</td>\n",
       "      <td>9.9468</td>\n",
       "      <td>2020</td>\n",
       "      <td>10</td>\n",
       "      <td>0.337500</td>\n",
       "    </tr>\n",
       "    <tr>\n",
       "      <th>3</th>\n",
       "      <td>42</td>\n",
       "      <td>CA-2017-120999</td>\n",
       "      <td>2020-09-10</td>\n",
       "      <td>Standard Class</td>\n",
       "      <td>LC-16930</td>\n",
       "      <td>Linda Cazamias</td>\n",
       "      <td>Corporate</td>\n",
       "      <td>United States</td>\n",
       "      <td>Naperville</td>\n",
       "      <td>Illinois</td>\n",
       "      <td>...</td>\n",
       "      <td>Technology</td>\n",
       "      <td>Phones</td>\n",
       "      <td>Panasonic Kx-TS550</td>\n",
       "      <td>147.168</td>\n",
       "      <td>4</td>\n",
       "      <td>0.2</td>\n",
       "      <td>16.5564</td>\n",
       "      <td>2020</td>\n",
       "      <td>9</td>\n",
       "      <td>0.112500</td>\n",
       "    </tr>\n",
       "    <tr>\n",
       "      <th>4</th>\n",
       "      <td>44</td>\n",
       "      <td>CA-2017-139619</td>\n",
       "      <td>2020-09-19</td>\n",
       "      <td>Standard Class</td>\n",
       "      <td>ES-14080</td>\n",
       "      <td>Erin Smith</td>\n",
       "      <td>Corporate</td>\n",
       "      <td>United States</td>\n",
       "      <td>Melbourne</td>\n",
       "      <td>Florida</td>\n",
       "      <td>...</td>\n",
       "      <td>Office Supplies</td>\n",
       "      <td>Storage</td>\n",
       "      <td>Advantus 10-Drawer Portable Organizer, Chrome ...</td>\n",
       "      <td>95.616</td>\n",
       "      <td>2</td>\n",
       "      <td>0.2</td>\n",
       "      <td>9.5616</td>\n",
       "      <td>2020</td>\n",
       "      <td>9</td>\n",
       "      <td>0.100000</td>\n",
       "    </tr>\n",
       "  </tbody>\n",
       "</table>\n",
       "<p>5 rows × 23 columns</p>\n",
       "</div>"
      ],
      "text/plain": [
       "   Row ID        Order ID Order Date       Ship Mode Customer ID  \\\n",
       "0      13  CA-2017-114412 2020-04-15  Standard Class    AA-10480   \n",
       "1      24  US-2017-156909 2020-07-16    Second Class    SF-20065   \n",
       "2      35  CA-2017-107727 2020-10-19    Second Class    MA-17560   \n",
       "3      42  CA-2017-120999 2020-09-10  Standard Class    LC-16930   \n",
       "4      44  CA-2017-139619 2020-09-19  Standard Class    ES-14080   \n",
       "\n",
       "     Customer Name      Segment        Country          City           State  \\\n",
       "0     Andrew Allen     Consumer  United States       Concord  North Carolina   \n",
       "1  Sandra Flanagan     Consumer  United States  Philadelphia    Pennsylvania   \n",
       "2     Matt Abelman  Home Office  United States       Houston           Texas   \n",
       "3   Linda Cazamias    Corporate  United States    Naperville        Illinois   \n",
       "4       Erin Smith    Corporate  United States     Melbourne         Florida   \n",
       "\n",
       "   ...         Category Sub-Category  \\\n",
       "0  ...  Office Supplies        Paper   \n",
       "1  ...        Furniture       Chairs   \n",
       "2  ...  Office Supplies        Paper   \n",
       "3  ...       Technology       Phones   \n",
       "4  ...  Office Supplies      Storage   \n",
       "\n",
       "                                        Product Name    Sales Quantity  \\\n",
       "0                                         Xerox 1967   15.552        3   \n",
       "1                 Global Deluxe Stacking Chair, Gray   71.372        2   \n",
       "2                                  Easy-staple paper   29.472        3   \n",
       "3                                 Panasonic Kx-TS550  147.168        4   \n",
       "4  Advantus 10-Drawer Portable Organizer, Chrome ...   95.616        2   \n",
       "\n",
       "  Discount   Profit  Order Date Year  Order Date Month  Profit Margin  \n",
       "0      0.2   5.4432             2020                 4       0.350000  \n",
       "1      0.3  -1.0196             2020                 7      -0.014286  \n",
       "2      0.2   9.9468             2020                10       0.337500  \n",
       "3      0.2  16.5564             2020                 9       0.112500  \n",
       "4      0.2   9.5616             2020                 9       0.100000  \n",
       "\n",
       "[5 rows x 23 columns]"
      ]
     },
     "execution_count": 5,
     "metadata": {},
     "output_type": "execute_result"
    }
   ],
   "source": [
    "df.head()"
   ]
  },
  {
   "cell_type": "markdown",
   "metadata": {},
   "source": [
    "# Explore Dataset"
   ]
  },
  {
   "cell_type": "code",
   "execution_count": 6,
   "metadata": {},
   "outputs": [
    {
     "name": "stdout",
     "output_type": "stream",
     "text": [
      "<class 'pandas.core.frame.DataFrame'>\n",
      "RangeIndex: 3312 entries, 0 to 3311\n",
      "Data columns (total 23 columns):\n",
      " #   Column            Non-Null Count  Dtype         \n",
      "---  ------            --------------  -----         \n",
      " 0   Row ID            3312 non-null   int64         \n",
      " 1   Order ID          3312 non-null   object        \n",
      " 2   Order Date        3312 non-null   datetime64[ns]\n",
      " 3   Ship Mode         3312 non-null   object        \n",
      " 4   Customer ID       3312 non-null   object        \n",
      " 5   Customer Name     3312 non-null   object        \n",
      " 6   Segment           3312 non-null   object        \n",
      " 7   Country           3312 non-null   object        \n",
      " 8   City              3312 non-null   object        \n",
      " 9   State             3312 non-null   object        \n",
      " 10  Postal Code       3312 non-null   int64         \n",
      " 11  Region            3312 non-null   object        \n",
      " 12  Product ID        3312 non-null   object        \n",
      " 13  Category          3312 non-null   object        \n",
      " 14  Sub-Category      3312 non-null   object        \n",
      " 15  Product Name      3312 non-null   object        \n",
      " 16  Sales             3312 non-null   float64       \n",
      " 17  Quantity          3312 non-null   int64         \n",
      " 18  Discount          3312 non-null   float64       \n",
      " 19  Profit            3312 non-null   float64       \n",
      " 20  Order Date Year   3312 non-null   int64         \n",
      " 21  Order Date Month  3312 non-null   int64         \n",
      " 22  Profit Margin     3312 non-null   float64       \n",
      "dtypes: datetime64[ns](1), float64(4), int64(5), object(13)\n",
      "memory usage: 595.2+ KB\n"
     ]
    }
   ],
   "source": [
    "# Basic Info about DataFrame\n",
    "df.info()"
   ]
  },
  {
   "cell_type": "code",
   "execution_count": 7,
   "metadata": {
    "scrolled": true
   },
   "outputs": [
    {
     "data": {
      "text/html": [
       "<div>\n",
       "<style scoped>\n",
       "    .dataframe tbody tr th:only-of-type {\n",
       "        vertical-align: middle;\n",
       "    }\n",
       "\n",
       "    .dataframe tbody tr th {\n",
       "        vertical-align: top;\n",
       "    }\n",
       "\n",
       "    .dataframe thead th {\n",
       "        text-align: right;\n",
       "    }\n",
       "</style>\n",
       "<table border=\"1\" class=\"dataframe\">\n",
       "  <thead>\n",
       "    <tr style=\"text-align: right;\">\n",
       "      <th></th>\n",
       "      <th>Row ID</th>\n",
       "      <th>Postal Code</th>\n",
       "      <th>Sales</th>\n",
       "      <th>Quantity</th>\n",
       "      <th>Discount</th>\n",
       "      <th>Profit</th>\n",
       "      <th>Order Date Year</th>\n",
       "      <th>Order Date Month</th>\n",
       "      <th>Profit Margin</th>\n",
       "    </tr>\n",
       "  </thead>\n",
       "  <tbody>\n",
       "    <tr>\n",
       "      <th>count</th>\n",
       "      <td>3312.000000</td>\n",
       "      <td>3312.000000</td>\n",
       "      <td>3312.000000</td>\n",
       "      <td>3312.000000</td>\n",
       "      <td>3312.000000</td>\n",
       "      <td>3312.000000</td>\n",
       "      <td>3312.0</td>\n",
       "      <td>3312.000000</td>\n",
       "      <td>3312.000000</td>\n",
       "    </tr>\n",
       "    <tr>\n",
       "      <th>mean</th>\n",
       "      <td>5087.107488</td>\n",
       "      <td>56186.515097</td>\n",
       "      <td>221.381418</td>\n",
       "      <td>3.766908</td>\n",
       "      <td>0.156467</td>\n",
       "      <td>28.212340</td>\n",
       "      <td>2020.0</td>\n",
       "      <td>7.730978</td>\n",
       "      <td>0.115981</td>\n",
       "    </tr>\n",
       "    <tr>\n",
       "      <th>std</th>\n",
       "      <td>2817.482266</td>\n",
       "      <td>31980.375516</td>\n",
       "      <td>585.257531</td>\n",
       "      <td>2.221776</td>\n",
       "      <td>0.207429</td>\n",
       "      <td>241.864342</td>\n",
       "      <td>0.0</td>\n",
       "      <td>3.341226</td>\n",
       "      <td>0.481265</td>\n",
       "    </tr>\n",
       "    <tr>\n",
       "      <th>min</th>\n",
       "      <td>13.000000</td>\n",
       "      <td>1841.000000</td>\n",
       "      <td>0.444000</td>\n",
       "      <td>1.000000</td>\n",
       "      <td>0.000000</td>\n",
       "      <td>-3839.990400</td>\n",
       "      <td>2020.0</td>\n",
       "      <td>1.000000</td>\n",
       "      <td>-2.750000</td>\n",
       "    </tr>\n",
       "    <tr>\n",
       "      <th>25%</th>\n",
       "      <td>2655.750000</td>\n",
       "      <td>27978.750000</td>\n",
       "      <td>17.018000</td>\n",
       "      <td>2.000000</td>\n",
       "      <td>0.000000</td>\n",
       "      <td>1.763200</td>\n",
       "      <td>2020.0</td>\n",
       "      <td>5.000000</td>\n",
       "      <td>0.075000</td>\n",
       "    </tr>\n",
       "    <tr>\n",
       "      <th>50%</th>\n",
       "      <td>5183.500000</td>\n",
       "      <td>60472.500000</td>\n",
       "      <td>53.810000</td>\n",
       "      <td>3.000000</td>\n",
       "      <td>0.200000</td>\n",
       "      <td>8.296800</td>\n",
       "      <td>2020.0</td>\n",
       "      <td>9.000000</td>\n",
       "      <td>0.270000</td>\n",
       "    </tr>\n",
       "    <tr>\n",
       "      <th>75%</th>\n",
       "      <td>7498.250000</td>\n",
       "      <td>90032.000000</td>\n",
       "      <td>205.105700</td>\n",
       "      <td>5.000000</td>\n",
       "      <td>0.200000</td>\n",
       "      <td>28.315125</td>\n",
       "      <td>2020.0</td>\n",
       "      <td>11.000000</td>\n",
       "      <td>0.362500</td>\n",
       "    </tr>\n",
       "    <tr>\n",
       "      <th>max</th>\n",
       "      <td>9994.000000</td>\n",
       "      <td>99301.000000</td>\n",
       "      <td>13999.960000</td>\n",
       "      <td>14.000000</td>\n",
       "      <td>0.800000</td>\n",
       "      <td>6719.980800</td>\n",
       "      <td>2020.0</td>\n",
       "      <td>12.000000</td>\n",
       "      <td>0.500000</td>\n",
       "    </tr>\n",
       "  </tbody>\n",
       "</table>\n",
       "</div>"
      ],
      "text/plain": [
       "            Row ID   Postal Code         Sales     Quantity     Discount  \\\n",
       "count  3312.000000   3312.000000   3312.000000  3312.000000  3312.000000   \n",
       "mean   5087.107488  56186.515097    221.381418     3.766908     0.156467   \n",
       "std    2817.482266  31980.375516    585.257531     2.221776     0.207429   \n",
       "min      13.000000   1841.000000      0.444000     1.000000     0.000000   \n",
       "25%    2655.750000  27978.750000     17.018000     2.000000     0.000000   \n",
       "50%    5183.500000  60472.500000     53.810000     3.000000     0.200000   \n",
       "75%    7498.250000  90032.000000    205.105700     5.000000     0.200000   \n",
       "max    9994.000000  99301.000000  13999.960000    14.000000     0.800000   \n",
       "\n",
       "            Profit  Order Date Year  Order Date Month  Profit Margin  \n",
       "count  3312.000000           3312.0       3312.000000    3312.000000  \n",
       "mean     28.212340           2020.0          7.730978       0.115981  \n",
       "std     241.864342              0.0          3.341226       0.481265  \n",
       "min   -3839.990400           2020.0          1.000000      -2.750000  \n",
       "25%       1.763200           2020.0          5.000000       0.075000  \n",
       "50%       8.296800           2020.0          9.000000       0.270000  \n",
       "75%      28.315125           2020.0         11.000000       0.362500  \n",
       "max    6719.980800           2020.0         12.000000       0.500000  "
      ]
     },
     "execution_count": 7,
     "metadata": {},
     "output_type": "execute_result"
    }
   ],
   "source": [
    "# Describe Method\n",
    "df.describe()"
   ]
  },
  {
   "cell_type": "code",
   "execution_count": 8,
   "metadata": {},
   "outputs": [
    {
     "data": {
      "text/plain": [
       "array(['Standard Class', 'Second Class', 'First Class', 'Same Day'],\n",
       "      dtype=object)"
      ]
     },
     "execution_count": 8,
     "metadata": {},
     "output_type": "execute_result"
    }
   ],
   "source": [
    "# Get a view of unique values in column, e.g. 'Ship Mode'\n",
    "df['Ship Mode'].unique()"
   ]
  },
  {
   "cell_type": "code",
   "execution_count": 9,
   "metadata": {},
   "outputs": [
    {
     "data": {
      "text/plain": [
       "Row ID           0\n",
       "Order ID         0\n",
       "Order Date       0\n",
       "Ship Mode        0\n",
       "Customer ID      0\n",
       "Customer Name    0\n",
       "Segment          0\n",
       "Country          0\n",
       "City             0\n",
       "State            0\n",
       "Postal Code      0\n",
       "Region           0\n",
       "Product ID       0\n",
       "Category         0\n",
       "Sub-Category     0\n",
       "Product Name     0\n",
       "Sales            0\n",
       "Quantity         0\n",
       "Discount         0\n",
       "Profit           0\n",
       "dtype: int64"
      ]
     },
     "execution_count": 9,
     "metadata": {},
     "output_type": "execute_result"
    }
   ],
   "source": [
    "df.isnull().sum()"
   ]
  },
  {
   "cell_type": "markdown",
   "metadata": {},
   "source": [
    "# Data Preperation & Analysis"
   ]
  },
  {
   "cell_type": "markdown",
   "metadata": {},
   "source": [
    "### TASKS:\n",
    "- What was the highest Sale in 2020?\n",
    "- What is average discount rate of charis?\n",
    "- Add extra columns to seperate Year & Month from the Order Date\n",
    "- Add a new column to calculate the Profit Margin for each sales record\n",
    "- Export manipulated dataframe to Excel\n",
    "- Create a new dataframe to reflect total Profit & Sales by Sub-Category\n",
    "- Develop a function, to return a dataframe which is grouped by a particular column (as an input)"
   ]
  },
  {
   "cell_type": "markdown",
   "metadata": {},
   "source": [
    "**What was the highest Sales?**"
   ]
  },
  {
   "cell_type": "code",
   "execution_count": 9,
   "metadata": {},
   "outputs": [
    {
     "data": {
      "text/html": [
       "<div>\n",
       "<style scoped>\n",
       "    .dataframe tbody tr th:only-of-type {\n",
       "        vertical-align: middle;\n",
       "    }\n",
       "\n",
       "    .dataframe tbody tr th {\n",
       "        vertical-align: top;\n",
       "    }\n",
       "\n",
       "    .dataframe thead th {\n",
       "        text-align: right;\n",
       "    }\n",
       "</style>\n",
       "<table border=\"1\" class=\"dataframe\">\n",
       "  <thead>\n",
       "    <tr style=\"text-align: right;\">\n",
       "      <th></th>\n",
       "      <th>Row ID</th>\n",
       "      <th>Order ID</th>\n",
       "      <th>Order Date</th>\n",
       "      <th>Ship Mode</th>\n",
       "      <th>Customer ID</th>\n",
       "      <th>Customer Name</th>\n",
       "      <th>Segment</th>\n",
       "      <th>Country</th>\n",
       "      <th>City</th>\n",
       "      <th>State</th>\n",
       "      <th>...</th>\n",
       "      <th>Category</th>\n",
       "      <th>Sub-Category</th>\n",
       "      <th>Product Name</th>\n",
       "      <th>Sales</th>\n",
       "      <th>Quantity</th>\n",
       "      <th>Discount</th>\n",
       "      <th>Profit</th>\n",
       "      <th>Order Date Year</th>\n",
       "      <th>Order Date Month</th>\n",
       "      <th>Profit Margin</th>\n",
       "    </tr>\n",
       "  </thead>\n",
       "  <tbody>\n",
       "    <tr>\n",
       "      <th>2710</th>\n",
       "      <td>8154</td>\n",
       "      <td>CA-2017-140151</td>\n",
       "      <td>2020-03-23</td>\n",
       "      <td>First Class</td>\n",
       "      <td>RB-19360</td>\n",
       "      <td>Raymond Buch</td>\n",
       "      <td>Consumer</td>\n",
       "      <td>United States</td>\n",
       "      <td>Seattle</td>\n",
       "      <td>Washington</td>\n",
       "      <td>...</td>\n",
       "      <td>Technology</td>\n",
       "      <td>Copiers</td>\n",
       "      <td>Canon imageCLASS 2200 Advanced Copier</td>\n",
       "      <td>13999.96</td>\n",
       "      <td>4</td>\n",
       "      <td>0.0</td>\n",
       "      <td>6719.9808</td>\n",
       "      <td>2020</td>\n",
       "      <td>3</td>\n",
       "      <td>0.48</td>\n",
       "    </tr>\n",
       "  </tbody>\n",
       "</table>\n",
       "<p>1 rows × 23 columns</p>\n",
       "</div>"
      ],
      "text/plain": [
       "      Row ID        Order ID Order Date    Ship Mode Customer ID  \\\n",
       "2710    8154  CA-2017-140151 2020-03-23  First Class    RB-19360   \n",
       "\n",
       "     Customer Name   Segment        Country     City       State  ...  \\\n",
       "2710  Raymond Buch  Consumer  United States  Seattle  Washington  ...   \n",
       "\n",
       "        Category Sub-Category                           Product Name  \\\n",
       "2710  Technology      Copiers  Canon imageCLASS 2200 Advanced Copier   \n",
       "\n",
       "         Sales Quantity Discount     Profit  Order Date Year  \\\n",
       "2710  13999.96        4      0.0  6719.9808             2020   \n",
       "\n",
       "      Order Date Month  Profit Margin  \n",
       "2710                 3           0.48  \n",
       "\n",
       "[1 rows x 23 columns]"
      ]
     },
     "execution_count": 9,
     "metadata": {},
     "output_type": "execute_result"
    }
   ],
   "source": [
    "df.nlargest(1, 'Sales')"
   ]
  },
  {
   "cell_type": "markdown",
   "metadata": {},
   "source": [
    "**What is average Discount of charis?**"
   ]
  },
  {
   "cell_type": "code",
   "execution_count": 10,
   "metadata": {},
   "outputs": [
    {
     "data": {
      "text/plain": [
       "0.1673684210526316"
      ]
     },
     "execution_count": 10,
     "metadata": {},
     "output_type": "execute_result"
    }
   ],
   "source": [
    "# Create Boolean mask\n",
    "mask = df['Sub-Category'] == 'Chairs'\n",
    "\n",
    "# Use Boolean mask to filter dataframe\n",
    "df[mask]['Discount'].mean()"
   ]
  },
  {
   "cell_type": "markdown",
   "metadata": {},
   "source": [
    "**Add an extra column for \"Order Month\" & \"Order Year\"**"
   ]
  },
  {
   "cell_type": "code",
   "execution_count": 11,
   "metadata": {},
   "outputs": [
    {
     "data": {
      "text/html": [
       "<div>\n",
       "<style scoped>\n",
       "    .dataframe tbody tr th:only-of-type {\n",
       "        vertical-align: middle;\n",
       "    }\n",
       "\n",
       "    .dataframe tbody tr th {\n",
       "        vertical-align: top;\n",
       "    }\n",
       "\n",
       "    .dataframe thead th {\n",
       "        text-align: right;\n",
       "    }\n",
       "</style>\n",
       "<table border=\"1\" class=\"dataframe\">\n",
       "  <thead>\n",
       "    <tr style=\"text-align: right;\">\n",
       "      <th></th>\n",
       "      <th>Row ID</th>\n",
       "      <th>Order ID</th>\n",
       "      <th>Order Date</th>\n",
       "      <th>Ship Mode</th>\n",
       "      <th>Customer ID</th>\n",
       "      <th>Customer Name</th>\n",
       "      <th>Segment</th>\n",
       "      <th>Country</th>\n",
       "      <th>City</th>\n",
       "      <th>State</th>\n",
       "      <th>...</th>\n",
       "      <th>Category</th>\n",
       "      <th>Sub-Category</th>\n",
       "      <th>Product Name</th>\n",
       "      <th>Sales</th>\n",
       "      <th>Quantity</th>\n",
       "      <th>Discount</th>\n",
       "      <th>Profit</th>\n",
       "      <th>Order Date Year</th>\n",
       "      <th>Order Date Month</th>\n",
       "      <th>Profit Margin</th>\n",
       "    </tr>\n",
       "  </thead>\n",
       "  <tbody>\n",
       "    <tr>\n",
       "      <th>0</th>\n",
       "      <td>13</td>\n",
       "      <td>CA-2017-114412</td>\n",
       "      <td>2020-04-15</td>\n",
       "      <td>Standard Class</td>\n",
       "      <td>AA-10480</td>\n",
       "      <td>Andrew Allen</td>\n",
       "      <td>Consumer</td>\n",
       "      <td>United States</td>\n",
       "      <td>Concord</td>\n",
       "      <td>North Carolina</td>\n",
       "      <td>...</td>\n",
       "      <td>Office Supplies</td>\n",
       "      <td>Paper</td>\n",
       "      <td>Xerox 1967</td>\n",
       "      <td>15.552</td>\n",
       "      <td>3</td>\n",
       "      <td>0.2</td>\n",
       "      <td>5.4432</td>\n",
       "      <td>2020</td>\n",
       "      <td>4</td>\n",
       "      <td>0.350000</td>\n",
       "    </tr>\n",
       "    <tr>\n",
       "      <th>1</th>\n",
       "      <td>24</td>\n",
       "      <td>US-2017-156909</td>\n",
       "      <td>2020-07-16</td>\n",
       "      <td>Second Class</td>\n",
       "      <td>SF-20065</td>\n",
       "      <td>Sandra Flanagan</td>\n",
       "      <td>Consumer</td>\n",
       "      <td>United States</td>\n",
       "      <td>Philadelphia</td>\n",
       "      <td>Pennsylvania</td>\n",
       "      <td>...</td>\n",
       "      <td>Furniture</td>\n",
       "      <td>Chairs</td>\n",
       "      <td>Global Deluxe Stacking Chair, Gray</td>\n",
       "      <td>71.372</td>\n",
       "      <td>2</td>\n",
       "      <td>0.3</td>\n",
       "      <td>-1.0196</td>\n",
       "      <td>2020</td>\n",
       "      <td>7</td>\n",
       "      <td>-0.014286</td>\n",
       "    </tr>\n",
       "  </tbody>\n",
       "</table>\n",
       "<p>2 rows × 23 columns</p>\n",
       "</div>"
      ],
      "text/plain": [
       "   Row ID        Order ID Order Date       Ship Mode Customer ID  \\\n",
       "0      13  CA-2017-114412 2020-04-15  Standard Class    AA-10480   \n",
       "1      24  US-2017-156909 2020-07-16    Second Class    SF-20065   \n",
       "\n",
       "     Customer Name   Segment        Country          City           State  \\\n",
       "0     Andrew Allen  Consumer  United States       Concord  North Carolina   \n",
       "1  Sandra Flanagan  Consumer  United States  Philadelphia    Pennsylvania   \n",
       "\n",
       "   ...         Category Sub-Category                        Product Name  \\\n",
       "0  ...  Office Supplies        Paper                          Xerox 1967   \n",
       "1  ...        Furniture       Chairs  Global Deluxe Stacking Chair, Gray   \n",
       "\n",
       "    Sales Quantity Discount  Profit  Order Date Year  Order Date Month  \\\n",
       "0  15.552        3      0.2  5.4432             2020                 4   \n",
       "1  71.372        2      0.3 -1.0196             2020                 7   \n",
       "\n",
       "   Profit Margin  \n",
       "0       0.350000  \n",
       "1      -0.014286  \n",
       "\n",
       "[2 rows x 23 columns]"
      ]
     },
     "execution_count": 11,
     "metadata": {},
     "output_type": "execute_result"
    }
   ],
   "source": [
    "df['Order Date Year'] = df['Order Date'].dt.year\n",
    "df['Order Date Month'] = df['Order Date'].dt.month\n",
    "df.head(2)"
   ]
  },
  {
   "cell_type": "markdown",
   "metadata": {},
   "source": [
    "**Add a new column to calculate the Profit Margin for each sales record**"
   ]
  },
  {
   "cell_type": "code",
   "execution_count": 14,
   "metadata": {},
   "outputs": [
    {
     "data": {
      "text/html": [
       "<div>\n",
       "<style scoped>\n",
       "    .dataframe tbody tr th:only-of-type {\n",
       "        vertical-align: middle;\n",
       "    }\n",
       "\n",
       "    .dataframe tbody tr th {\n",
       "        vertical-align: top;\n",
       "    }\n",
       "\n",
       "    .dataframe thead th {\n",
       "        text-align: right;\n",
       "    }\n",
       "</style>\n",
       "<table border=\"1\" class=\"dataframe\">\n",
       "  <thead>\n",
       "    <tr style=\"text-align: right;\">\n",
       "      <th></th>\n",
       "      <th>Row ID</th>\n",
       "      <th>Order ID</th>\n",
       "      <th>Order Date</th>\n",
       "      <th>Ship Mode</th>\n",
       "      <th>Customer ID</th>\n",
       "      <th>Customer Name</th>\n",
       "      <th>Segment</th>\n",
       "      <th>Country</th>\n",
       "      <th>City</th>\n",
       "      <th>State</th>\n",
       "      <th>...</th>\n",
       "      <th>Category</th>\n",
       "      <th>Sub-Category</th>\n",
       "      <th>Product Name</th>\n",
       "      <th>Sales</th>\n",
       "      <th>Quantity</th>\n",
       "      <th>Discount</th>\n",
       "      <th>Profit</th>\n",
       "      <th>Order Date Year</th>\n",
       "      <th>Order Date Month</th>\n",
       "      <th>Profit Margin</th>\n",
       "    </tr>\n",
       "  </thead>\n",
       "  <tbody>\n",
       "    <tr>\n",
       "      <th>0</th>\n",
       "      <td>13</td>\n",
       "      <td>CA-2017-114412</td>\n",
       "      <td>2020-04-15</td>\n",
       "      <td>Standard Class</td>\n",
       "      <td>AA-10480</td>\n",
       "      <td>Andrew Allen</td>\n",
       "      <td>Consumer</td>\n",
       "      <td>United States</td>\n",
       "      <td>Concord</td>\n",
       "      <td>North Carolina</td>\n",
       "      <td>...</td>\n",
       "      <td>Office Supplies</td>\n",
       "      <td>Paper</td>\n",
       "      <td>Xerox 1967</td>\n",
       "      <td>15.552</td>\n",
       "      <td>3</td>\n",
       "      <td>0.2</td>\n",
       "      <td>5.4432</td>\n",
       "      <td>2020</td>\n",
       "      <td>4</td>\n",
       "      <td>0.350000</td>\n",
       "    </tr>\n",
       "    <tr>\n",
       "      <th>1</th>\n",
       "      <td>24</td>\n",
       "      <td>US-2017-156909</td>\n",
       "      <td>2020-07-16</td>\n",
       "      <td>Second Class</td>\n",
       "      <td>SF-20065</td>\n",
       "      <td>Sandra Flanagan</td>\n",
       "      <td>Consumer</td>\n",
       "      <td>United States</td>\n",
       "      <td>Philadelphia</td>\n",
       "      <td>Pennsylvania</td>\n",
       "      <td>...</td>\n",
       "      <td>Furniture</td>\n",
       "      <td>Chairs</td>\n",
       "      <td>Global Deluxe Stacking Chair, Gray</td>\n",
       "      <td>71.372</td>\n",
       "      <td>2</td>\n",
       "      <td>0.3</td>\n",
       "      <td>-1.0196</td>\n",
       "      <td>2020</td>\n",
       "      <td>7</td>\n",
       "      <td>-0.014286</td>\n",
       "    </tr>\n",
       "    <tr>\n",
       "      <th>2</th>\n",
       "      <td>35</td>\n",
       "      <td>CA-2017-107727</td>\n",
       "      <td>2020-10-19</td>\n",
       "      <td>Second Class</td>\n",
       "      <td>MA-17560</td>\n",
       "      <td>Matt Abelman</td>\n",
       "      <td>Home Office</td>\n",
       "      <td>United States</td>\n",
       "      <td>Houston</td>\n",
       "      <td>Texas</td>\n",
       "      <td>...</td>\n",
       "      <td>Office Supplies</td>\n",
       "      <td>Paper</td>\n",
       "      <td>Easy-staple paper</td>\n",
       "      <td>29.472</td>\n",
       "      <td>3</td>\n",
       "      <td>0.2</td>\n",
       "      <td>9.9468</td>\n",
       "      <td>2020</td>\n",
       "      <td>10</td>\n",
       "      <td>0.337500</td>\n",
       "    </tr>\n",
       "  </tbody>\n",
       "</table>\n",
       "<p>3 rows × 23 columns</p>\n",
       "</div>"
      ],
      "text/plain": [
       "   Row ID        Order ID Order Date       Ship Mode Customer ID  \\\n",
       "0      13  CA-2017-114412 2020-04-15  Standard Class    AA-10480   \n",
       "1      24  US-2017-156909 2020-07-16    Second Class    SF-20065   \n",
       "2      35  CA-2017-107727 2020-10-19    Second Class    MA-17560   \n",
       "\n",
       "     Customer Name      Segment        Country          City           State  \\\n",
       "0     Andrew Allen     Consumer  United States       Concord  North Carolina   \n",
       "1  Sandra Flanagan     Consumer  United States  Philadelphia    Pennsylvania   \n",
       "2     Matt Abelman  Home Office  United States       Houston           Texas   \n",
       "\n",
       "   ...         Category Sub-Category                        Product Name  \\\n",
       "0  ...  Office Supplies        Paper                          Xerox 1967   \n",
       "1  ...        Furniture       Chairs  Global Deluxe Stacking Chair, Gray   \n",
       "2  ...  Office Supplies        Paper                   Easy-staple paper   \n",
       "\n",
       "    Sales Quantity Discount  Profit  Order Date Year  Order Date Month  \\\n",
       "0  15.552        3      0.2  5.4432             2020                 4   \n",
       "1  71.372        2      0.3 -1.0196             2020                 7   \n",
       "2  29.472        3      0.2  9.9468             2020                10   \n",
       "\n",
       "   Profit Margin  \n",
       "0       0.350000  \n",
       "1      -0.014286  \n",
       "2       0.337500  \n",
       "\n",
       "[3 rows x 23 columns]"
      ]
     },
     "execution_count": 14,
     "metadata": {},
     "output_type": "execute_result"
    }
   ],
   "source": [
    "df['Profit Margin'] = df['Profit'] / df['Sales']\n",
    "df.head(3)"
   ]
  },
  {
   "cell_type": "markdown",
   "metadata": {},
   "source": [
    "**Export manipulated dataframe back to excel**"
   ]
  },
  {
   "cell_type": "code",
   "execution_count": 12,
   "metadata": {},
   "outputs": [],
   "source": [
    "df.to_excel(r'C:\\Users\\acer-pc\\Desktop\\project data/data.xlsx', index=False)"
   ]
  },
  {
   "cell_type": "markdown",
   "metadata": {},
   "source": [
    "#### Total Profit &Sales by Sub-Category"
   ]
  },
  {
   "cell_type": "code",
   "execution_count": 13,
   "metadata": {},
   "outputs": [],
   "source": [
    "# Group By Sub-Category [SUM]\n",
    "df_by_sub_category = df.groupby('Sub-Category').sum()\n",
    "\n",
    "# Reset Index\n",
    "df_by_sub_category.reset_index(inplace=True)"
   ]
  },
  {
   "cell_type": "code",
   "execution_count": 15,
   "metadata": {},
   "outputs": [
    {
     "data": {
      "text/html": [
       "<div>\n",
       "<style scoped>\n",
       "    .dataframe tbody tr th:only-of-type {\n",
       "        vertical-align: middle;\n",
       "    }\n",
       "\n",
       "    .dataframe tbody tr th {\n",
       "        vertical-align: top;\n",
       "    }\n",
       "\n",
       "    .dataframe thead th {\n",
       "        text-align: right;\n",
       "    }\n",
       "</style>\n",
       "<table border=\"1\" class=\"dataframe\">\n",
       "  <thead>\n",
       "    <tr style=\"text-align: right;\">\n",
       "      <th></th>\n",
       "      <th>Sub-Category</th>\n",
       "      <th>Row ID</th>\n",
       "      <th>Postal Code</th>\n",
       "      <th>Sales</th>\n",
       "      <th>Quantity</th>\n",
       "      <th>Discount</th>\n",
       "      <th>Profit</th>\n",
       "      <th>Order Date Year</th>\n",
       "      <th>Order Date Month</th>\n",
       "      <th>Profit Margin</th>\n",
       "    </tr>\n",
       "  </thead>\n",
       "  <tbody>\n",
       "    <tr>\n",
       "      <th>0</th>\n",
       "      <td>Accessories</td>\n",
       "      <td>1449605</td>\n",
       "      <td>15762114</td>\n",
       "      <td>59946.2320</td>\n",
       "      <td>1079</td>\n",
       "      <td>19.80</td>\n",
       "      <td>15672.3570</td>\n",
       "      <td>555500</td>\n",
       "      <td>2153</td>\n",
       "      <td>62.655000</td>\n",
       "    </tr>\n",
       "    <tr>\n",
       "      <th>1</th>\n",
       "      <td>Appliances</td>\n",
       "      <td>874517</td>\n",
       "      <td>9377881</td>\n",
       "      <td>42926.9320</td>\n",
       "      <td>654</td>\n",
       "      <td>29.10</td>\n",
       "      <td>7865.2683</td>\n",
       "      <td>333300</td>\n",
       "      <td>1255</td>\n",
       "      <td>-36.133889</td>\n",
       "    </tr>\n",
       "    <tr>\n",
       "      <th>2</th>\n",
       "      <td>Art</td>\n",
       "      <td>1377681</td>\n",
       "      <td>16355998</td>\n",
       "      <td>8863.0680</td>\n",
       "      <td>1101</td>\n",
       "      <td>22.20</td>\n",
       "      <td>2221.9631</td>\n",
       "      <td>569640</td>\n",
       "      <td>2146</td>\n",
       "      <td>70.995000</td>\n",
       "    </tr>\n",
       "    <tr>\n",
       "      <th>3</th>\n",
       "      <td>Binders</td>\n",
       "      <td>2500416</td>\n",
       "      <td>29015384</td>\n",
       "      <td>72788.0450</td>\n",
       "      <td>2067</td>\n",
       "      <td>189.10</td>\n",
       "      <td>7669.7418</td>\n",
       "      <td>1010000</td>\n",
       "      <td>3841</td>\n",
       "      <td>-107.832500</td>\n",
       "    </tr>\n",
       "    <tr>\n",
       "      <th>4</th>\n",
       "      <td>Bookcases</td>\n",
       "      <td>384522</td>\n",
       "      <td>4483249</td>\n",
       "      <td>30024.2797</td>\n",
       "      <td>276</td>\n",
       "      <td>16.32</td>\n",
       "      <td>-583.6261</td>\n",
       "      <td>153520</td>\n",
       "      <td>552</td>\n",
       "      <td>-11.233641</td>\n",
       "    </tr>\n",
       "  </tbody>\n",
       "</table>\n",
       "</div>"
      ],
      "text/plain": [
       "  Sub-Category   Row ID  Postal Code       Sales  Quantity  Discount  \\\n",
       "0  Accessories  1449605     15762114  59946.2320      1079     19.80   \n",
       "1   Appliances   874517      9377881  42926.9320       654     29.10   \n",
       "2          Art  1377681     16355998   8863.0680      1101     22.20   \n",
       "3      Binders  2500416     29015384  72788.0450      2067    189.10   \n",
       "4    Bookcases   384522      4483249  30024.2797       276     16.32   \n",
       "\n",
       "       Profit  Order Date Year  Order Date Month  Profit Margin  \n",
       "0  15672.3570           555500              2153      62.655000  \n",
       "1   7865.2683           333300              1255     -36.133889  \n",
       "2   2221.9631           569640              2146      70.995000  \n",
       "3   7669.7418          1010000              3841    -107.832500  \n",
       "4   -583.6261           153520               552     -11.233641  "
      ]
     },
     "execution_count": 15,
     "metadata": {},
     "output_type": "execute_result"
    }
   ],
   "source": [
    "df_by_sub_category.head()"
   ]
  },
  {
   "cell_type": "markdown",
   "metadata": {},
   "source": [
    "#### Develop a function, to return a dataframe which is grouped by a particular column (as an input)"
   ]
  },
  {
   "cell_type": "code",
   "execution_count": 16,
   "metadata": {},
   "outputs": [
    {
     "data": {
      "text/html": [
       "<div>\n",
       "<style scoped>\n",
       "    .dataframe tbody tr th:only-of-type {\n",
       "        vertical-align: middle;\n",
       "    }\n",
       "\n",
       "    .dataframe tbody tr th {\n",
       "        vertical-align: top;\n",
       "    }\n",
       "\n",
       "    .dataframe thead th {\n",
       "        text-align: right;\n",
       "    }\n",
       "</style>\n",
       "<table border=\"1\" class=\"dataframe\">\n",
       "  <thead>\n",
       "    <tr style=\"text-align: right;\">\n",
       "      <th></th>\n",
       "      <th>Segment</th>\n",
       "      <th>Row ID</th>\n",
       "      <th>Postal Code</th>\n",
       "      <th>Sales</th>\n",
       "      <th>Quantity</th>\n",
       "      <th>Discount</th>\n",
       "      <th>Profit</th>\n",
       "      <th>Order Date Year</th>\n",
       "      <th>Order Date Month</th>\n",
       "      <th>Profit Margin</th>\n",
       "    </tr>\n",
       "  </thead>\n",
       "  <tbody>\n",
       "    <tr>\n",
       "      <th>0</th>\n",
       "      <td>Consumer</td>\n",
       "      <td>8561367</td>\n",
       "      <td>92871614</td>\n",
       "      <td>331904.6999</td>\n",
       "      <td>6282</td>\n",
       "      <td>264.12</td>\n",
       "      <td>45568.2391</td>\n",
       "      <td>3369360</td>\n",
       "      <td>13115</td>\n",
       "      <td>186.803297</td>\n",
       "    </tr>\n",
       "    <tr>\n",
       "      <th>1</th>\n",
       "      <td>Corporate</td>\n",
       "      <td>5023960</td>\n",
       "      <td>54879479</td>\n",
       "      <td>241847.8244</td>\n",
       "      <td>3758</td>\n",
       "      <td>154.68</td>\n",
       "      <td>26782.3633</td>\n",
       "      <td>1979600</td>\n",
       "      <td>7679</td>\n",
       "      <td>111.247822</td>\n",
       "    </tr>\n",
       "    <tr>\n",
       "      <th>2</th>\n",
       "      <td>Home Office</td>\n",
       "      <td>3263173</td>\n",
       "      <td>38338645</td>\n",
       "      <td>159462.7309</td>\n",
       "      <td>2436</td>\n",
       "      <td>99.42</td>\n",
       "      <td>21088.6672</td>\n",
       "      <td>1341280</td>\n",
       "      <td>4811</td>\n",
       "      <td>86.078886</td>\n",
       "    </tr>\n",
       "  </tbody>\n",
       "</table>\n",
       "</div>"
      ],
      "text/plain": [
       "       Segment   Row ID  Postal Code        Sales  Quantity  Discount  \\\n",
       "0     Consumer  8561367     92871614  331904.6999      6282    264.12   \n",
       "1    Corporate  5023960     54879479  241847.8244      3758    154.68   \n",
       "2  Home Office  3263173     38338645  159462.7309      2436     99.42   \n",
       "\n",
       "       Profit  Order Date Year  Order Date Month  Profit Margin  \n",
       "0  45568.2391          3369360             13115     186.803297  \n",
       "1  26782.3633          1979600              7679     111.247822  \n",
       "2  21088.6672          1341280              4811      86.078886  "
      ]
     },
     "execution_count": 16,
     "metadata": {},
     "output_type": "execute_result"
    }
   ],
   "source": [
    "# Groupby as a function\n",
    "def grouped_data(column_name):\n",
    "    '''\n",
    "    Groupby column and return DataFrame\n",
    "    Input: Column Name\n",
    "    '''\n",
    "    df_tmp = df.groupby(column_name).sum()\n",
    "    df_tmp.reset_index(inplace=True)\n",
    "    return df_tmp\n",
    "    \n",
    "# Group DataFrame by Segment\n",
    "grouped_data('Segment')"
   ]
  },
  {
   "cell_type": "markdown",
   "metadata": {},
   "source": [
    "# Further Deep Dive & Visualization"
   ]
  },
  {
   "cell_type": "markdown",
   "metadata": {},
   "source": [
    "###  Objective: \n",
    "- Further Analysis/Deep Dive using various kind of Charts\n",
    "- Prepare/Refactor Dataframe for different Charttypes\n",
    "- Generate & Export 'Ready-To-Present- Charts': Clean & Interactive\n",
    "-----\n",
    "#### Chart Types:\n",
    "- [x]  Histogram\n",
    "- [x] Boxpot\n",
    "- [x] Various Barplots\n",
    "- [x] Scatterplot\n",
    "- [x] Linechart"
   ]
  },
  {
   "cell_type": "markdown",
   "metadata": {},
   "source": [
    "**Distribution Sales [Histogram]**"
   ]
  },
  {
   "cell_type": "code",
   "execution_count": 17,
   "metadata": {},
   "outputs": [
    {
     "data": {
      "text/plain": [
       "count     3312.000000\n",
       "mean       221.381418\n",
       "std        585.257531\n",
       "min          0.444000\n",
       "25%         17.018000\n",
       "50%         53.810000\n",
       "75%        205.105700\n",
       "max      13999.960000\n",
       "Name: Sales, dtype: float64"
      ]
     },
     "execution_count": 17,
     "metadata": {},
     "output_type": "execute_result"
    }
   ],
   "source": [
    "# Quick Stats Overview for Sales\n",
    "df['Sales'].describe()"
   ]
  },
  {
   "cell_type": "code",
   "execution_count": 19,
   "metadata": {
    "scrolled": true
   },
   "outputs": [
    {
     "data": {
      "image/png": "[encoded data removed]"
     },
     "metadata": {},
     "output_type": "display_data"
    }
   ],
   "source": [
    "fig = px.histogram(df,\n",
    "                  x=\"Sales\",\n",
    "                  template=template_style)\n",
    "fig.show(\"png\")"
   ]
  },
  {
   "cell_type": "markdown",
   "metadata": {},
   "source": [
    "**Show the distribution and skewness of Sales [Boxplot]**"
   ]
  },
  {
   "cell_type": "code",
   "execution_count": 24,
   "metadata": {},
   "outputs": [
    {
     "data": {
      "image/png": "[encoded data removed]"
     },
     "metadata": {},
     "output_type": "display_data"
    }
   ],
   "source": [
    "# Create Chart\n",
    "fig = px.box(df,\n",
    "             y=\"Sales\",\n",
    "             range_y=[0,1000],\n",
    "             template=template_style)\n",
    "fig.show(\"png\")"
   ]
  },
  {
   "cell_type": "markdown",
   "metadata": {},
   "source": [
    "**Plot Sales by Sub-Category**"
   ]
  },
  {
   "cell_type": "code",
   "execution_count": 25,
   "metadata": {},
   "outputs": [
    {
     "data": {
      "text/html": [
       "<div>\n",
       "<style scoped>\n",
       "    .dataframe tbody tr th:only-of-type {\n",
       "        vertical-align: middle;\n",
       "    }\n",
       "\n",
       "    .dataframe tbody tr th {\n",
       "        vertical-align: top;\n",
       "    }\n",
       "\n",
       "    .dataframe thead th {\n",
       "        text-align: right;\n",
       "    }\n",
       "</style>\n",
       "<table border=\"1\" class=\"dataframe\">\n",
       "  <thead>\n",
       "    <tr style=\"text-align: right;\">\n",
       "      <th></th>\n",
       "      <th>Sub-Category</th>\n",
       "      <th>Row ID</th>\n",
       "      <th>Postal Code</th>\n",
       "      <th>Sales</th>\n",
       "      <th>Quantity</th>\n",
       "      <th>Discount</th>\n",
       "      <th>Profit</th>\n",
       "      <th>Order Date Year</th>\n",
       "      <th>Order Date Month</th>\n",
       "      <th>Profit Margin</th>\n",
       "    </tr>\n",
       "  </thead>\n",
       "  <tbody>\n",
       "    <tr>\n",
       "      <th>0</th>\n",
       "      <td>Accessories</td>\n",
       "      <td>1449605</td>\n",
       "      <td>15762114</td>\n",
       "      <td>59946.2320</td>\n",
       "      <td>1079</td>\n",
       "      <td>19.80</td>\n",
       "      <td>15672.3570</td>\n",
       "      <td>555500</td>\n",
       "      <td>2153</td>\n",
       "      <td>62.655000</td>\n",
       "    </tr>\n",
       "    <tr>\n",
       "      <th>1</th>\n",
       "      <td>Appliances</td>\n",
       "      <td>874517</td>\n",
       "      <td>9377881</td>\n",
       "      <td>42926.9320</td>\n",
       "      <td>654</td>\n",
       "      <td>29.10</td>\n",
       "      <td>7865.2683</td>\n",
       "      <td>333300</td>\n",
       "      <td>1255</td>\n",
       "      <td>-36.133889</td>\n",
       "    </tr>\n",
       "    <tr>\n",
       "      <th>2</th>\n",
       "      <td>Art</td>\n",
       "      <td>1377681</td>\n",
       "      <td>16355998</td>\n",
       "      <td>8863.0680</td>\n",
       "      <td>1101</td>\n",
       "      <td>22.20</td>\n",
       "      <td>2221.9631</td>\n",
       "      <td>569640</td>\n",
       "      <td>2146</td>\n",
       "      <td>70.995000</td>\n",
       "    </tr>\n",
       "    <tr>\n",
       "      <th>3</th>\n",
       "      <td>Binders</td>\n",
       "      <td>2500416</td>\n",
       "      <td>29015384</td>\n",
       "      <td>72788.0450</td>\n",
       "      <td>2067</td>\n",
       "      <td>189.10</td>\n",
       "      <td>7669.7418</td>\n",
       "      <td>1010000</td>\n",
       "      <td>3841</td>\n",
       "      <td>-107.832500</td>\n",
       "    </tr>\n",
       "    <tr>\n",
       "      <th>4</th>\n",
       "      <td>Bookcases</td>\n",
       "      <td>384522</td>\n",
       "      <td>4483249</td>\n",
       "      <td>30024.2797</td>\n",
       "      <td>276</td>\n",
       "      <td>16.32</td>\n",
       "      <td>-583.6261</td>\n",
       "      <td>153520</td>\n",
       "      <td>552</td>\n",
       "      <td>-11.233641</td>\n",
       "    </tr>\n",
       "  </tbody>\n",
       "</table>\n",
       "</div>"
      ],
      "text/plain": [
       "  Sub-Category   Row ID  Postal Code       Sales  Quantity  Discount  \\\n",
       "0  Accessories  1449605     15762114  59946.2320      1079     19.80   \n",
       "1   Appliances   874517      9377881  42926.9320       654     29.10   \n",
       "2          Art  1377681     16355998   8863.0680      1101     22.20   \n",
       "3      Binders  2500416     29015384  72788.0450      2067    189.10   \n",
       "4    Bookcases   384522      4483249  30024.2797       276     16.32   \n",
       "\n",
       "       Profit  Order Date Year  Order Date Month  Profit Margin  \n",
       "0  15672.3570           555500              2153      62.655000  \n",
       "1   7865.2683           333300              1255     -36.133889  \n",
       "2   2221.9631           569640              2146      70.995000  \n",
       "3   7669.7418          1010000              3841    -107.832500  \n",
       "4   -583.6261           153520               552     -11.233641  "
      ]
     },
     "execution_count": 25,
     "metadata": {},
     "output_type": "execute_result"
    }
   ],
   "source": [
    "# Create Dataframe\n",
    "data = grouped_data('Sub-Category')\n",
    "data.head()"
   ]
  },
  {
   "cell_type": "code",
   "execution_count": 22,
   "metadata": {},
   "outputs": [
    {
     "data": {
      "image/png": "[encoded data removed]"
     },
     "metadata": {},
     "output_type": "display_data"
    }
   ],
   "source": [
    "fig = px.bar(data,\n",
    "             x='Sub-Category',\n",
    "             y='Sales',\n",
    "             title='<b>Sales by Sub Category</b>',\n",
    "             template = template_style)\n",
    "\n",
    "fig.show(\"png\")"
   ]
  },
  {
   "cell_type": "markdown",
   "metadata": {},
   "source": [
    "**Plot Profit by Sub-Category**"
   ]
  },
  {
   "cell_type": "code",
   "execution_count": 26,
   "metadata": {},
   "outputs": [
    {
     "data": {
      "image/png": "[encoded data removed]"
     },
     "metadata": {},
     "output_type": "display_data"
    }
   ],
   "source": [
    "# Create Chart\n",
    "fig = px.bar(data,\n",
    "             x='Sub-Category',\n",
    "             y='Profit',\n",
    "             title='<b>Profit by Sub Category</b>',\n",
    "             template = template_style)\n",
    "fig.show(\"png\")\n"
   ]
  },
  {
   "cell_type": "markdown",
   "metadata": {},
   "source": [
    "**Plot Sales & Profit by Sub-Category**"
   ]
  },
  {
   "cell_type": "code",
   "execution_count": 27,
   "metadata": {},
   "outputs": [
    {
     "data": {
      "image/png": "[encoded data removed]"
     },
     "metadata": {},
     "output_type": "display_data"
    }
   ],
   "source": [
    "# Create Chart\n",
    "fig = px.bar(data,\n",
    "             x='Sub-Category',\n",
    "             y='Sales', color='Profit',\n",
    "             color_continuous_scale=[\"red\",\"yellow\",\"green\"],\n",
    "             template = template_style,\n",
    "             title = '<b>Sales & Profit by Sub Category</b>')\n",
    "fig.show(\"png\")"
   ]
  },
  {
   "cell_type": "markdown",
   "metadata": {},
   "source": [
    "#### Inspect Negative Profit of Tables"
   ]
  },
  {
   "cell_type": "markdown",
   "metadata": {},
   "source": [
    "Is there any linear correlation between Sales/Profit & Discount? [Scatterplot]"
   ]
  },
  {
   "cell_type": "code",
   "execution_count": 28,
   "metadata": {},
   "outputs": [
    {
     "data": {
      "image/png": "[encoded data removed]"
     },
     "metadata": {},
     "output_type": "display_data"
    }
   ],
   "source": [
    "# Create Chart\n",
    "fig = px.scatter(df,\n",
    "                 x='Sales',\n",
    "                 y='Profit',\n",
    "                 color='Discount',\n",
    "                 template = template_style,\n",
    "                 title = '<b>Scatterplot Sales/Profit</b>')\n",
    "fig.show(\"png\")\n"
   ]
  },
  {
   "cell_type": "markdown",
   "metadata": {},
   "source": [
    "**Check Discount mean by Sub Category**"
   ]
  },
  {
   "cell_type": "code",
   "execution_count": 29,
   "metadata": {},
   "outputs": [
    {
     "data": {
      "text/html": [
       "<div>\n",
       "<style scoped>\n",
       "    .dataframe tbody tr th:only-of-type {\n",
       "        vertical-align: middle;\n",
       "    }\n",
       "\n",
       "    .dataframe tbody tr th {\n",
       "        vertical-align: top;\n",
       "    }\n",
       "\n",
       "    .dataframe thead th {\n",
       "        text-align: right;\n",
       "    }\n",
       "</style>\n",
       "<table border=\"1\" class=\"dataframe\">\n",
       "  <thead>\n",
       "    <tr style=\"text-align: right;\">\n",
       "      <th></th>\n",
       "      <th>Discount</th>\n",
       "      <th>Profit</th>\n",
       "    </tr>\n",
       "    <tr>\n",
       "      <th>Sub-Category</th>\n",
       "      <th></th>\n",
       "      <th></th>\n",
       "    </tr>\n",
       "  </thead>\n",
       "  <tbody>\n",
       "    <tr>\n",
       "      <th>Accessories</th>\n",
       "      <td>0.072000</td>\n",
       "      <td>15672.3570</td>\n",
       "    </tr>\n",
       "    <tr>\n",
       "      <th>Appliances</th>\n",
       "      <td>0.176364</td>\n",
       "      <td>7865.2683</td>\n",
       "    </tr>\n",
       "    <tr>\n",
       "      <th>Art</th>\n",
       "      <td>0.078723</td>\n",
       "      <td>2221.9631</td>\n",
       "    </tr>\n",
       "    <tr>\n",
       "      <th>Binders</th>\n",
       "      <td>0.378200</td>\n",
       "      <td>7669.7418</td>\n",
       "    </tr>\n",
       "    <tr>\n",
       "      <th>Bookcases</th>\n",
       "      <td>0.214737</td>\n",
       "      <td>-583.6261</td>\n",
       "    </tr>\n",
       "  </tbody>\n",
       "</table>\n",
       "</div>"
      ],
      "text/plain": [
       "              Discount      Profit\n",
       "Sub-Category                      \n",
       "Accessories   0.072000  15672.3570\n",
       "Appliances    0.176364   7865.2683\n",
       "Art           0.078723   2221.9631\n",
       "Binders       0.378200   7669.7418\n",
       "Bookcases     0.214737   -583.6261"
      ]
     },
     "execution_count": 29,
     "metadata": {},
     "output_type": "execute_result"
    }
   ],
   "source": [
    "# Create new dataframe: Group by 'Sub-Category' and aggregate the mean of 'Discount'\n",
    "df_discount = df.groupby('Sub-Category').agg({'Discount':'mean',\n",
    "                                              'Profit':'sum'})\n",
    "\n",
    "# Display first 5 rows of new dataframe\n",
    "df_discount.head()\n"
   ]
  },
  {
   "cell_type": "markdown",
   "metadata": {},
   "source": [
    "**Plot Mean Discount by Sub Category**"
   ]
  },
  {
   "cell_type": "code",
   "execution_count": 30,
   "metadata": {},
   "outputs": [
    {
     "data": {
      "image/png": "[encoded data removed]"
     },
     "metadata": {},
     "output_type": "display_data"
    }
   ],
   "source": [
    "# Create Chart\n",
    "fig = px.bar(df_discount,\n",
    "             x=df_discount.index,\n",
    "             y='Discount',\n",
    "             color='Profit',\n",
    "             color_continuous_scale=['red','yellow','green'],\n",
    "             template = template_style,\n",
    "             title = '<b>Mean Discount by Sub Category</b>')\n",
    "fig.show(\"png\")"
   ]
  },
  {
   "cell_type": "markdown",
   "metadata": {},
   "source": [
    "**Plot Sales & Profit Development for the year 2020**"
   ]
  },
  {
   "cell_type": "code",
   "execution_count": 31,
   "metadata": {},
   "outputs": [
    {
     "data": {
      "text/html": [
       "<div>\n",
       "<style scoped>\n",
       "    .dataframe tbody tr th:only-of-type {\n",
       "        vertical-align: middle;\n",
       "    }\n",
       "\n",
       "    .dataframe tbody tr th {\n",
       "        vertical-align: top;\n",
       "    }\n",
       "\n",
       "    .dataframe thead th {\n",
       "        text-align: right;\n",
       "    }\n",
       "</style>\n",
       "<table border=\"1\" class=\"dataframe\">\n",
       "  <thead>\n",
       "    <tr style=\"text-align: right;\">\n",
       "      <th></th>\n",
       "      <th>Row ID</th>\n",
       "      <th>Order ID</th>\n",
       "      <th>Order Date</th>\n",
       "      <th>Ship Mode</th>\n",
       "      <th>Customer ID</th>\n",
       "      <th>Customer Name</th>\n",
       "      <th>Segment</th>\n",
       "      <th>Country</th>\n",
       "      <th>City</th>\n",
       "      <th>State</th>\n",
       "      <th>...</th>\n",
       "      <th>Product Name</th>\n",
       "      <th>Sales</th>\n",
       "      <th>Quantity</th>\n",
       "      <th>Discount</th>\n",
       "      <th>Profit</th>\n",
       "      <th>Order Date Year</th>\n",
       "      <th>Order Date Month</th>\n",
       "      <th>Profit Margin</th>\n",
       "      <th>cummulative_sales</th>\n",
       "      <th>cummulative_profit</th>\n",
       "    </tr>\n",
       "  </thead>\n",
       "  <tbody>\n",
       "    <tr>\n",
       "      <th>252</th>\n",
       "      <td>909</td>\n",
       "      <td>CA-2017-143259</td>\n",
       "      <td>2020-12-30</td>\n",
       "      <td>Standard Class</td>\n",
       "      <td>PO-18865</td>\n",
       "      <td>Patrick O'Donnell</td>\n",
       "      <td>Consumer</td>\n",
       "      <td>United States</td>\n",
       "      <td>New York City</td>\n",
       "      <td>New York</td>\n",
       "      <td>...</td>\n",
       "      <td>Wilson Jones Legal Size Ring Binders</td>\n",
       "      <td>52.776</td>\n",
       "      <td>3</td>\n",
       "      <td>0.2</td>\n",
       "      <td>19.7910</td>\n",
       "      <td>2020</td>\n",
       "      <td>12</td>\n",
       "      <td>0.3750</td>\n",
       "      <td>733180.6312</td>\n",
       "      <td>93428.2758</td>\n",
       "    </tr>\n",
       "    <tr>\n",
       "      <th>360</th>\n",
       "      <td>1298</td>\n",
       "      <td>CA-2017-115427</td>\n",
       "      <td>2020-12-30</td>\n",
       "      <td>Standard Class</td>\n",
       "      <td>EB-13975</td>\n",
       "      <td>Erica Bern</td>\n",
       "      <td>Corporate</td>\n",
       "      <td>United States</td>\n",
       "      <td>Fairfield</td>\n",
       "      <td>California</td>\n",
       "      <td>...</td>\n",
       "      <td>GBC Binding covers</td>\n",
       "      <td>20.720</td>\n",
       "      <td>2</td>\n",
       "      <td>0.2</td>\n",
       "      <td>6.4750</td>\n",
       "      <td>2020</td>\n",
       "      <td>12</td>\n",
       "      <td>0.3125</td>\n",
       "      <td>733201.3512</td>\n",
       "      <td>93434.7508</td>\n",
       "    </tr>\n",
       "    <tr>\n",
       "      <th>359</th>\n",
       "      <td>1297</td>\n",
       "      <td>CA-2017-115427</td>\n",
       "      <td>2020-12-30</td>\n",
       "      <td>Standard Class</td>\n",
       "      <td>EB-13975</td>\n",
       "      <td>Erica Bern</td>\n",
       "      <td>Corporate</td>\n",
       "      <td>United States</td>\n",
       "      <td>Fairfield</td>\n",
       "      <td>California</td>\n",
       "      <td>...</td>\n",
       "      <td>Cardinal Slant-D Ring Binder, Heavy Gauge Vinyl</td>\n",
       "      <td>13.904</td>\n",
       "      <td>2</td>\n",
       "      <td>0.2</td>\n",
       "      <td>4.5188</td>\n",
       "      <td>2020</td>\n",
       "      <td>12</td>\n",
       "      <td>0.3250</td>\n",
       "      <td>733215.2552</td>\n",
       "      <td>93439.2696</td>\n",
       "    </tr>\n",
       "  </tbody>\n",
       "</table>\n",
       "<p>3 rows × 25 columns</p>\n",
       "</div>"
      ],
      "text/plain": [
       "     Row ID        Order ID Order Date       Ship Mode Customer ID  \\\n",
       "252     909  CA-2017-143259 2020-12-30  Standard Class    PO-18865   \n",
       "360    1298  CA-2017-115427 2020-12-30  Standard Class    EB-13975   \n",
       "359    1297  CA-2017-115427 2020-12-30  Standard Class    EB-13975   \n",
       "\n",
       "         Customer Name    Segment        Country           City       State  \\\n",
       "252  Patrick O'Donnell   Consumer  United States  New York City    New York   \n",
       "360         Erica Bern  Corporate  United States      Fairfield  California   \n",
       "359         Erica Bern  Corporate  United States      Fairfield  California   \n",
       "\n",
       "     ...                                     Product Name   Sales Quantity  \\\n",
       "252  ...             Wilson Jones Legal Size Ring Binders  52.776        3   \n",
       "360  ...                               GBC Binding covers  20.720        2   \n",
       "359  ...  Cardinal Slant-D Ring Binder, Heavy Gauge Vinyl  13.904        2   \n",
       "\n",
       "    Discount   Profit Order Date Year  Order Date Month  Profit Margin  \\\n",
       "252      0.2  19.7910            2020                12         0.3750   \n",
       "360      0.2   6.4750            2020                12         0.3125   \n",
       "359      0.2   4.5188            2020                12         0.3250   \n",
       "\n",
       "     cummulative_sales  cummulative_profit  \n",
       "252        733180.6312          93428.2758  \n",
       "360        733201.3512          93434.7508  \n",
       "359        733215.2552          93439.2696  \n",
       "\n",
       "[3 rows x 25 columns]"
      ]
     },
     "execution_count": 31,
     "metadata": {},
     "output_type": "execute_result"
    }
   ],
   "source": [
    "# Sort Values by Order Date\n",
    "df_sorted = df.sort_values(by=['Order Date'])\n",
    "\n",
    "# Add cummulative Sales & Profit\n",
    "df_sorted['cummulative_sales'] = df_sorted['Sales'].cumsum()\n",
    "df_sorted['cummulative_profit'] = df_sorted['Profit'].cumsum()\n",
    "\n",
    "# Print tail & head of sorted dataframe\n",
    "df_sorted.tail(3)"
   ]
  },
  {
   "cell_type": "code",
   "execution_count": 34,
   "metadata": {},
   "outputs": [
    {
     "data": {
      "image/png": "[encoded data removed]"
     },
     "metadata": {},
     "output_type": "display_data"
    }
   ],
   "source": [
    "# Create Chart\n",
    "fig = px.line(df_sorted,\n",
    "              x='Order Date',\n",
    "              y=['cummulative_sales','cummulative_profit'],\n",
    "              template = template_style,\n",
    "              title= '<b>Sales/Profit Development</b>')\n",
    "fig.show(\"png\")"
   ]
  },
  {
   "cell_type": "code",
   "execution_count": null,
   "metadata": {},
   "outputs": [],
   "source": []
  }
 ],
 "metadata": {
  "kernelspec": {
   "display_name": "Python 3",
   "language": "python",
   "name": "python3"
  },
  "language_info": {
   "codemirror_mode": {
    "name": "ipython",
    "version": 3
   },
   "file_extension": ".py",
   "mimetype": "text/x-python",
   "name": "python",
   "nbconvert_exporter": "python",
   "pygments_lexer": "ipython3",
   "version": "3.8.5"
  },
  "toc": {
   "base_numbering": 1,
   "nav_menu": {},
   "number_sections": false,
   "sideBar": true,
   "skip_h1_title": false,
   "title_cell": "Table of Contents",
   "title_sidebar": "Contents",
   "toc_cell": false,
   "toc_position": {},
   "toc_section_display": true,
   "toc_window_display": false
  }
 },
 "nbformat": 4,
 "nbformat_minor": 4
}
